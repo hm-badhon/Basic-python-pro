{
 "cells": [
  {
   "cell_type": "code",
   "execution_count": 1,
   "id": "e81af891",
   "metadata": {},
   "outputs": [
    {
     "name": "stdout",
     "output_type": "stream",
     "text": [
      "1\n",
      "2\n"
     ]
    },
    {
     "ename": "AssertionError",
     "evalue": "",
     "output_type": "error",
     "traceback": [
      "\u001b[1;31m---------------------------------------------------------------------------\u001b[0m",
      "\u001b[1;31mAssertionError\u001b[0m                            Traceback (most recent call last)",
      "\u001b[1;32m<ipython-input-1-98aeb3b8a49e>\u001b[0m in \u001b[0;36m<module>\u001b[1;34m\u001b[0m\n\u001b[0;32m      2\u001b[0m \u001b[1;32massert\u001b[0m \u001b[1;36m2\u001b[0m \u001b[1;33m+\u001b[0m \u001b[1;36m2\u001b[0m \u001b[1;33m==\u001b[0m \u001b[1;36m4\u001b[0m\u001b[1;33m\u001b[0m\u001b[1;33m\u001b[0m\u001b[0m\n\u001b[0;32m      3\u001b[0m \u001b[0mprint\u001b[0m\u001b[1;33m(\u001b[0m\u001b[1;36m2\u001b[0m\u001b[1;33m)\u001b[0m\u001b[1;33m\u001b[0m\u001b[1;33m\u001b[0m\u001b[0m\n\u001b[1;32m----> 4\u001b[1;33m \u001b[1;32massert\u001b[0m \u001b[1;36m1\u001b[0m \u001b[1;33m+\u001b[0m \u001b[1;36m1\u001b[0m \u001b[1;33m==\u001b[0m \u001b[1;36m3\u001b[0m\u001b[1;33m\u001b[0m\u001b[1;33m\u001b[0m\u001b[0m\n\u001b[0m\u001b[0;32m      5\u001b[0m \u001b[0mprint\u001b[0m\u001b[1;33m(\u001b[0m\u001b[1;36m3\u001b[0m\u001b[1;33m)\u001b[0m\u001b[1;33m\u001b[0m\u001b[1;33m\u001b[0m\u001b[0m\n",
      "\u001b[1;31mAssertionError\u001b[0m: "
     ]
    }
   ],
   "source": [
    "print(1)\n",
    "assert 2 + 2 == 4\n",
    "print(2)\n",
    "assert 1 + 1 == 3\n",
    "print(3)"
   ]
  },
  {
   "cell_type": "code",
   "execution_count": 2,
   "id": "3a064cd4",
   "metadata": {},
   "outputs": [
    {
     "name": "stdout",
     "output_type": "stream",
     "text": [
      "32.0\n",
      "451\n"
     ]
    },
    {
     "ename": "AssertionError",
     "evalue": "Colder than absolute zero!",
     "output_type": "error",
     "traceback": [
      "\u001b[1;31m---------------------------------------------------------------------------\u001b[0m",
      "\u001b[1;31mAssertionError\u001b[0m                            Traceback (most recent call last)",
      "\u001b[1;32m<ipython-input-2-fe3c7b95cf6a>\u001b[0m in \u001b[0;36m<module>\u001b[1;34m\u001b[0m\n\u001b[0;32m      5\u001b[0m \u001b[0mprint\u001b[0m\u001b[1;33m(\u001b[0m\u001b[0mKelvinToFahrenheit\u001b[0m\u001b[1;33m(\u001b[0m\u001b[1;36m273\u001b[0m\u001b[1;33m)\u001b[0m\u001b[1;33m)\u001b[0m\u001b[1;33m\u001b[0m\u001b[1;33m\u001b[0m\u001b[0m\n\u001b[0;32m      6\u001b[0m \u001b[0mprint\u001b[0m\u001b[1;33m(\u001b[0m\u001b[0mint\u001b[0m\u001b[1;33m(\u001b[0m\u001b[0mKelvinToFahrenheit\u001b[0m\u001b[1;33m(\u001b[0m\u001b[1;36m505.78\u001b[0m\u001b[1;33m)\u001b[0m\u001b[1;33m)\u001b[0m\u001b[1;33m)\u001b[0m\u001b[1;33m\u001b[0m\u001b[1;33m\u001b[0m\u001b[0m\n\u001b[1;32m----> 7\u001b[1;33m \u001b[0mprint\u001b[0m\u001b[1;33m(\u001b[0m\u001b[0mKelvinToFahrenheit\u001b[0m\u001b[1;33m(\u001b[0m\u001b[1;33m-\u001b[0m\u001b[1;36m5\u001b[0m\u001b[1;33m)\u001b[0m\u001b[1;33m)\u001b[0m\u001b[1;33m\u001b[0m\u001b[1;33m\u001b[0m\u001b[0m\n\u001b[0m",
      "\u001b[1;32m<ipython-input-2-fe3c7b95cf6a>\u001b[0m in \u001b[0;36mKelvinToFahrenheit\u001b[1;34m(Temperature)\u001b[0m\n\u001b[0;32m      1\u001b[0m \u001b[1;32mdef\u001b[0m \u001b[0mKelvinToFahrenheit\u001b[0m\u001b[1;33m(\u001b[0m\u001b[0mTemperature\u001b[0m\u001b[1;33m)\u001b[0m\u001b[1;33m:\u001b[0m\u001b[1;33m\u001b[0m\u001b[1;33m\u001b[0m\u001b[0m\n\u001b[1;32m----> 2\u001b[1;33m    \u001b[1;32massert\u001b[0m \u001b[1;33m(\u001b[0m\u001b[0mTemperature\u001b[0m \u001b[1;33m>=\u001b[0m \u001b[1;36m0\u001b[0m\u001b[1;33m)\u001b[0m\u001b[1;33m,\u001b[0m\u001b[1;34m\"Colder than absolute zero!\"\u001b[0m\u001b[1;33m\u001b[0m\u001b[1;33m\u001b[0m\u001b[0m\n\u001b[0m\u001b[0;32m      3\u001b[0m    \u001b[1;32mreturn\u001b[0m \u001b[1;33m(\u001b[0m\u001b[1;33m(\u001b[0m\u001b[0mTemperature\u001b[0m\u001b[1;33m-\u001b[0m\u001b[1;36m273\u001b[0m\u001b[1;33m)\u001b[0m\u001b[1;33m*\u001b[0m\u001b[1;36m1.8\u001b[0m\u001b[1;33m)\u001b[0m\u001b[1;33m+\u001b[0m\u001b[1;36m32\u001b[0m\u001b[1;33m\u001b[0m\u001b[1;33m\u001b[0m\u001b[0m\n\u001b[0;32m      4\u001b[0m \u001b[1;33m\u001b[0m\u001b[0m\n\u001b[0;32m      5\u001b[0m \u001b[0mprint\u001b[0m\u001b[1;33m(\u001b[0m\u001b[0mKelvinToFahrenheit\u001b[0m\u001b[1;33m(\u001b[0m\u001b[1;36m273\u001b[0m\u001b[1;33m)\u001b[0m\u001b[1;33m)\u001b[0m\u001b[1;33m\u001b[0m\u001b[1;33m\u001b[0m\u001b[0m\n",
      "\u001b[1;31mAssertionError\u001b[0m: Colder than absolute zero!"
     ]
    }
   ],
   "source": [
    "def KelvinToFahrenheit(Temperature):\n",
    "   assert (Temperature >= 0),\"Colder than absolute zero!\"\n",
    "   return ((Temperature-273)*1.8)+32\n",
    "\n",
    "print(KelvinToFahrenheit(273))\n",
    "print(int(KelvinToFahrenheit(505.78)))\n",
    "print(KelvinToFahrenheit(-5))"
   ]
  },
  {
   "cell_type": "code",
   "execution_count": 4,
   "id": "d98c3957",
   "metadata": {},
   "outputs": [
    {
     "name": "stdout",
     "output_type": "stream",
     "text": [
      "Hello Badhon . How are you?\n"
     ]
    }
   ],
   "source": [
    "file_to_work = open(\"bd.txt\", \"r\")\n",
    "content = file_to_work.read()\n",
    "\n",
    "print(content)\n",
    "\n",
    "file_to_work.close()"
   ]
  },
  {
   "cell_type": "code",
   "execution_count": 5,
   "id": "ed35704a",
   "metadata": {},
   "outputs": [
    {
     "name": "stdout",
     "output_type": "stream",
     "text": [
      "H\n",
      "ello\n",
      " Badhon . How are you?\n"
     ]
    }
   ],
   "source": [
    "file_to_work = open(\"bd.txt\", \"r\")\n",
    "\n",
    "just_one_character = file_to_work.read(1)\n",
    "print(just_one_character)\n",
    "\n",
    "remaining_four_characters = file_to_work.read(4)\n",
    "print(remaining_four_characters)\n",
    "\n",
    "rest_of_the_file = file_to_work.read()\n",
    "print(rest_of_the_file)\n",
    "\n",
    "file_to_work.close()"
   ]
  },
  {
   "cell_type": "code",
   "execution_count": 7,
   "id": "9be79384",
   "metadata": {},
   "outputs": [
    {
     "name": "stdout",
     "output_type": "stream",
     "text": [
      "['Hello Badhon . \\n']\n"
     ]
    }
   ],
   "source": [
    "file_to_work = open(\"bd.txt\", \"r\")\n",
    "\n",
    "lines = file_to_work.readlines(2)\n",
    "print(lines)\n",
    "\n",
    "file_to_work.close()"
   ]
  },
  {
   "cell_type": "code",
   "execution_count": 9,
   "id": "83b6ff51",
   "metadata": {},
   "outputs": [
    {
     "name": "stdout",
     "output_type": "stream",
     "text": [
      "Hello Badhon . \n",
      "\n",
      "How are you?\n",
      "\n",
      "I'm Fine.\n"
     ]
    }
   ],
   "source": [
    "file_to_work = open(\"bd.txt\", \"r\")\n",
    "\n",
    "for my_line in file_to_work:\n",
    "    print(my_line)\n",
    "\n",
    "file_to_work.close()"
   ]
  },
  {
   "cell_type": "code",
   "execution_count": 10,
   "id": "ea288d87",
   "metadata": {},
   "outputs": [
    {
     "name": "stdout",
     "output_type": "stream",
     "text": [
      "Badhon is writing!!!\n"
     ]
    }
   ],
   "source": [
    "file_to_work = open(\"bd.txt\", \"w\")\n",
    "file_to_work.write(\"Badhon is writing!!!\")\n",
    "file_to_work.close()\n",
    "\n",
    "file_to_work = open(\"bd.txt\", \"r\")\n",
    "print(file_to_work.read())\n",
    "file_to_work.close()"
   ]
  },
  {
   "cell_type": "code",
   "execution_count": 12,
   "id": "b1b81831",
   "metadata": {},
   "outputs": [
    {
     "name": "stdout",
     "output_type": "stream",
     "text": [
      "Yes, 19 byte(s) has been written!\n"
     ]
    }
   ],
   "source": [
    "file_to_work = open(\"bd.txt\", \"w\")\n",
    "is_writing_done = file_to_work.write(\"Nuhil am writing!!!\")\n",
    "\n",
    "if is_writing_done:\n",
    "    print(\"Yes, {0} byte(s) has been written!\".format(is_writing_done))\n",
    "file_to_work.close()"
   ]
  },
  {
   "cell_type": "code",
   "execution_count": 14,
   "id": "47845270",
   "metadata": {},
   "outputs": [
    {
     "name": "stdout",
     "output_type": "stream",
     "text": [
      "Nuhil am writing!!!\n"
     ]
    }
   ],
   "source": [
    "try:\n",
    "    file_to_work = open(\"bd.txt\", \"r\")\n",
    "    content = file_to_work.read()\n",
    "    print(content)\n",
    "finally:\n",
    "    file_to_work.close()"
   ]
  },
  {
   "cell_type": "code",
   "execution_count": 15,
   "id": "d5743afb",
   "metadata": {},
   "outputs": [
    {
     "name": "stdout",
     "output_type": "stream",
     "text": [
      "Nuhil am writing!!!\n"
     ]
    }
   ],
   "source": [
    "with open(\"bd.txt\") as f:\n",
    "    print(f.read())"
   ]
  },
  {
   "cell_type": "code",
   "execution_count": null,
   "id": "826e940d",
   "metadata": {},
   "outputs": [],
   "source": []
  }
 ],
 "metadata": {
  "kernelspec": {
   "display_name": "Python 3",
   "language": "python",
   "name": "python3"
  },
  "language_info": {
   "codemirror_mode": {
    "name": "ipython",
    "version": 3
   },
   "file_extension": ".py",
   "mimetype": "text/x-python",
   "name": "python",
   "nbconvert_exporter": "python",
   "pygments_lexer": "ipython3",
   "version": "3.8.8"
  }
 },
 "nbformat": 4,
 "nbformat_minor": 5
}
