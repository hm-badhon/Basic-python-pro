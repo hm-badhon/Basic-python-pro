{
 "cells": [
  {
   "cell_type": "code",
   "execution_count": 1,
   "id": "61dce52c-8a90-4cc8-8a94-eefbc5262f9e",
   "metadata": {},
   "outputs": [
    {
     "name": "stdout",
     "output_type": "stream",
     "text": [
      "Hello\n",
      "Divided by zero\n",
      "This code will run no matter what\n"
     ]
    }
   ],
   "source": [
    "try:\n",
    "   print(\"Hello\")\n",
    "   print(1 / 0)\n",
    "except ZeroDivisionError:\n",
    "   print(\"Divided by zero\")\n",
    "finally:\n",
    "   print(\"This code will run no matter what\")"
   ]
  },
  {
   "cell_type": "code",
   "execution_count": null,
   "id": "88c441e0-eaf0-4876-906b-d340b35a5486",
   "metadata": {},
   "outputs": [],
   "source": []
  }
 ],
 "metadata": {
  "kernelspec": {
   "display_name": "Python 3",
   "language": "python",
   "name": "python3"
  },
  "language_info": {
   "codemirror_mode": {
    "name": "ipython",
    "version": 3
   },
   "file_extension": ".py",
   "mimetype": "text/x-python",
   "name": "python",
   "nbconvert_exporter": "python",
   "pygments_lexer": "ipython3",
   "version": "3.8.8"
  }
 },
 "nbformat": 4,
 "nbformat_minor": 5
}
