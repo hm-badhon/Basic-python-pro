{
  "nbformat": 4,
  "nbformat_minor": 0,
  "metadata": {
    "colab": {
      "name": "Expension.ipynb",
      "provenance": []
    },
    "kernelspec": {
      "name": "python3",
      "display_name": "Python 3"
    },
    "language_info": {
      "name": "python"
    }
  },
  "cells": [
    {
      "cell_type": "code",
      "metadata": {
        "colab": {
          "base_uri": "https://localhost:8080/",
          "height": 218
        },
        "id": "MpjNvpotlLo1",
        "outputId": "f821ab9a-e5c6-418e-b707-0a32f39870e2"
      },
      "source": [
        "a = 2500\n",
        "b = 0\n",
        "\n",
        "print(a/b)\n",
        "print(\"I did it\")"
      ],
      "execution_count": 1,
      "outputs": [
        {
          "output_type": "error",
          "ename": "ZeroDivisionError",
          "evalue": "ignored",
          "traceback": [
            "\u001b[0;31m---------------------------------------------------------------------------\u001b[0m",
            "\u001b[0;31mZeroDivisionError\u001b[0m                         Traceback (most recent call last)",
            "\u001b[0;32m<ipython-input-1-2e35320e75e1>\u001b[0m in \u001b[0;36m<module>\u001b[0;34m()\u001b[0m\n\u001b[1;32m      2\u001b[0m \u001b[0mb\u001b[0m \u001b[0;34m=\u001b[0m \u001b[0;36m0\u001b[0m\u001b[0;34m\u001b[0m\u001b[0;34m\u001b[0m\u001b[0m\n\u001b[1;32m      3\u001b[0m \u001b[0;34m\u001b[0m\u001b[0m\n\u001b[0;32m----> 4\u001b[0;31m \u001b[0mprint\u001b[0m\u001b[0;34m(\u001b[0m\u001b[0ma\u001b[0m\u001b[0;34m/\u001b[0m\u001b[0mb\u001b[0m\u001b[0;34m)\u001b[0m\u001b[0;34m\u001b[0m\u001b[0;34m\u001b[0m\u001b[0m\n\u001b[0m\u001b[1;32m      5\u001b[0m \u001b[0mprint\u001b[0m\u001b[0;34m(\u001b[0m\u001b[0;34m\"I did it\"\u001b[0m\u001b[0;34m)\u001b[0m\u001b[0;34m\u001b[0m\u001b[0;34m\u001b[0m\u001b[0m\n",
            "\u001b[0;31mZeroDivisionError\u001b[0m: division by zero"
          ]
        }
      ]
    },
    {
      "cell_type": "code",
      "metadata": {
        "id": "Ycnh5ASuzlyz"
      },
      "source": [
        "#Expension Name:\n",
        "Expension\n",
        "StopItaration\n",
        "ArithmeticError\n",
        "OverflowError\n",
        "ZeroDivisionError\n",
        "mport Error\n",
        "IndexError\n",
        "KeyError\n",
        "NameError\n",
        "IOError\n",
        "SyntaxError\n",
        "IndentationError\n",
        "RuntimeError"
      ],
      "execution_count": null,
      "outputs": []
    },
    {
      "cell_type": "code",
      "metadata": {
        "colab": {
          "base_uri": "https://localhost:8080/"
        },
        "id": "s5UCkivkzjWD",
        "outputId": "e21fcff8-50eb-4d16-eabf-0a78f45f28c4"
      },
      "source": [
        "#Solution for Expension\n",
        "try :\n",
        "  a=234\n",
        "  b=int(input(\"Enter a divisor to divide 234:  \"))\n",
        "  print(a/b)\n",
        "except ZeroDivisionError:\n",
        "  print(\"You enter 0 which is not permitted\")"
      ],
      "execution_count": 5,
      "outputs": [
        {
          "output_type": "stream",
          "text": [
            "Enter a divisor to divide 234:  0\n",
            "You enter 0 which is not permitted\n"
          ],
          "name": "stdout"
        }
      ]
    },
    {
      "cell_type": "code",
      "metadata": {
        "colab": {
          "base_uri": "https://localhost:8080/"
        },
        "id": "pZ0b_Hnq2OE5",
        "outputId": "bd8760f1-ad30-48d4-b0cd-3a6fa367689e"
      },
      "source": [
        "try:\n",
        "    variable = 10\n",
        "    print(variable + \" Menon  vai\")\n",
        "    print(variable / 2)\n",
        "except ZeroDivisionError:\n",
        "    print(\"Divided by zero\")\n",
        "except (ValueError, TypeError):\n",
        "    print(\"Type or value error occurred\")"
      ],
      "execution_count": 9,
      "outputs": [
        {
          "output_type": "stream",
          "text": [
            "Type or value error occurred\n"
          ],
          "name": "stdout"
        }
      ]
    },
    {
      "cell_type": "code",
      "metadata": {
        "colab": {
          "base_uri": "https://localhost:8080/"
        },
        "id": "Rsjsa5Jl3AIL",
        "outputId": "908fb66e-e61e-40a5-d3d0-047609588e49"
      },
      "source": [
        "try:\n",
        "    word = \"spam\"\n",
        "    print(word / 0)\n",
        "except:\n",
        "    print(\"An error occurred\")"
      ],
      "execution_count": 10,
      "outputs": [
        {
          "output_type": "stream",
          "text": [
            "An error occurred\n"
          ],
          "name": "stdout"
        }
      ]
    },
    {
      "cell_type": "code",
      "metadata": {
        "id": "6TNL5PsU4vd7"
      },
      "source": [
        ""
      ],
      "execution_count": null,
      "outputs": []
    }
  ]
}