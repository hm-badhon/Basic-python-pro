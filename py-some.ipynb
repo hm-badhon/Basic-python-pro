{
 "cells": [
  {
   "cell_type": "code",
   "execution_count": 1,
   "id": "9bccd598",
   "metadata": {},
   "outputs": [
    {
     "name": "stdout",
     "output_type": "stream",
     "text": [
      "hello world\n"
     ]
    }
   ],
   "source": [
    "print('hello world')"
   ]
  },
  {
   "cell_type": "code",
   "execution_count": 2,
   "id": "01b094fb",
   "metadata": {},
   "outputs": [
    {
     "name": "stdout",
     "output_type": "stream",
     "text": [
      "My name is hmbadhon , i am a software engineer.\n"
     ]
    }
   ],
   "source": [
    "print('My name is hmbadhon , i am a software engineer.')"
   ]
  },
  {
   "cell_type": "code",
   "execution_count": 3,
   "id": "5440d896",
   "metadata": {},
   "outputs": [
    {
     "ename": "KeyboardInterrupt",
     "evalue": "Interrupted by user",
     "output_type": "error",
     "traceback": [
      "\u001b[1;31m---------------------------------------------------------------------------\u001b[0m",
      "\u001b[1;31mKeyboardInterrupt\u001b[0m                         Traceback (most recent call last)",
      "\u001b[1;32m<ipython-input-3-cebd9939a333>\u001b[0m in \u001b[0;36m<module>\u001b[1;34m\u001b[0m\n\u001b[1;32m----> 1\u001b[1;33m \u001b[0minput\u001b[0m\u001b[1;33m(\u001b[0m\u001b[1;34m\"enter your name : \"\u001b[0m\u001b[1;33m)\u001b[0m\u001b[1;33m\u001b[0m\u001b[1;33m\u001b[0m\u001b[0m\n\u001b[0m",
      "\u001b[1;32m~\\anaconda3\\lib\\site-packages\\ipykernel\\kernelbase.py\u001b[0m in \u001b[0;36mraw_input\u001b[1;34m(self, prompt)\u001b[0m\n\u001b[0;32m    858\u001b[0m                 \u001b[1;34m\"raw_input was called, but this frontend does not support input requests.\"\u001b[0m\u001b[1;33m\u001b[0m\u001b[1;33m\u001b[0m\u001b[0m\n\u001b[0;32m    859\u001b[0m             )\n\u001b[1;32m--> 860\u001b[1;33m         return self._input_request(str(prompt),\n\u001b[0m\u001b[0;32m    861\u001b[0m             \u001b[0mself\u001b[0m\u001b[1;33m.\u001b[0m\u001b[0m_parent_ident\u001b[0m\u001b[1;33m,\u001b[0m\u001b[1;33m\u001b[0m\u001b[1;33m\u001b[0m\u001b[0m\n\u001b[0;32m    862\u001b[0m             \u001b[0mself\u001b[0m\u001b[1;33m.\u001b[0m\u001b[0m_parent_header\u001b[0m\u001b[1;33m,\u001b[0m\u001b[1;33m\u001b[0m\u001b[1;33m\u001b[0m\u001b[0m\n",
      "\u001b[1;32m~\\anaconda3\\lib\\site-packages\\ipykernel\\kernelbase.py\u001b[0m in \u001b[0;36m_input_request\u001b[1;34m(self, prompt, ident, parent, password)\u001b[0m\n\u001b[0;32m    902\u001b[0m             \u001b[1;32mexcept\u001b[0m \u001b[0mKeyboardInterrupt\u001b[0m\u001b[1;33m:\u001b[0m\u001b[1;33m\u001b[0m\u001b[1;33m\u001b[0m\u001b[0m\n\u001b[0;32m    903\u001b[0m                 \u001b[1;31m# re-raise KeyboardInterrupt, to truncate traceback\u001b[0m\u001b[1;33m\u001b[0m\u001b[1;33m\u001b[0m\u001b[1;33m\u001b[0m\u001b[0m\n\u001b[1;32m--> 904\u001b[1;33m                 \u001b[1;32mraise\u001b[0m \u001b[0mKeyboardInterrupt\u001b[0m\u001b[1;33m(\u001b[0m\u001b[1;34m\"Interrupted by user\"\u001b[0m\u001b[1;33m)\u001b[0m \u001b[1;32mfrom\u001b[0m \u001b[1;32mNone\u001b[0m\u001b[1;33m\u001b[0m\u001b[1;33m\u001b[0m\u001b[0m\n\u001b[0m\u001b[0;32m    905\u001b[0m             \u001b[1;32mexcept\u001b[0m \u001b[0mException\u001b[0m \u001b[1;32mas\u001b[0m \u001b[0me\u001b[0m\u001b[1;33m:\u001b[0m\u001b[1;33m\u001b[0m\u001b[1;33m\u001b[0m\u001b[0m\n\u001b[0;32m    906\u001b[0m                 \u001b[0mself\u001b[0m\u001b[1;33m.\u001b[0m\u001b[0mlog\u001b[0m\u001b[1;33m.\u001b[0m\u001b[0mwarning\u001b[0m\u001b[1;33m(\u001b[0m\u001b[1;34m\"Invalid Message:\"\u001b[0m\u001b[1;33m,\u001b[0m \u001b[0mexc_info\u001b[0m\u001b[1;33m=\u001b[0m\u001b[1;32mTrue\u001b[0m\u001b[1;33m)\u001b[0m\u001b[1;33m\u001b[0m\u001b[1;33m\u001b[0m\u001b[0m\n",
      "\u001b[1;31mKeyboardInterrupt\u001b[0m: Interrupted by user"
     ]
    }
   ],
   "source": [
    "input(\"enter your name : \")"
   ]
  },
  {
   "cell_type": "code",
   "execution_count": null,
   "id": "965ece4f",
   "metadata": {},
   "outputs": [],
   "source": [
    "print(\" That's my boy \")"
   ]
  },
  {
   "cell_type": "code",
   "execution_count": null,
   "id": "2d50f5aa",
   "metadata": {},
   "outputs": [],
   "source": [
    "\n",
    "x= \"this is a varable \"\n",
    "y=\"this is a number\"\n",
    "print(x)\n",
    "print(y)"
   ]
  },
  {
   "cell_type": "code",
   "execution_count": null,
   "id": "d80d131c",
   "metadata": {},
   "outputs": [],
   "source": [
    "x=10\n",
    "print(x)"
   ]
  },
  {
   "cell_type": "code",
   "execution_count": null,
   "id": "d405d9ea",
   "metadata": {},
   "outputs": [],
   "source": [
    "type(x)"
   ]
  },
  {
   "cell_type": "code",
   "execution_count": null,
   "id": "ae7748c9",
   "metadata": {},
   "outputs": [],
   "source": [
    "x=input(\"please enter a number : \")\n",
    "print(\"this s number \",x)"
   ]
  },
  {
   "cell_type": "code",
   "execution_count": null,
   "id": "bb32c778",
   "metadata": {},
   "outputs": [],
   "source": [
    "x= True\n",
    "type(x)"
   ]
  },
  {
   "cell_type": "code",
   "execution_count": null,
   "id": "6125913b",
   "metadata": {},
   "outputs": [],
   "source": [
    "# this is a comment  tag"
   ]
  },
  {
   "cell_type": "code",
   "execution_count": null,
   "id": "bcdebed0",
   "metadata": {},
   "outputs": [],
   "source": [
    "''' this \n",
    "more line commer'''"
   ]
  },
  {
   "cell_type": "code",
   "execution_count": null,
   "id": "52227ef7",
   "metadata": {},
   "outputs": [],
   "source": [
    "\"\"\"asdfadsf\n",
    "dasfds\n",
    "\"\"\""
   ]
  },
  {
   "cell_type": "code",
   "execution_count": null,
   "id": "8c269600",
   "metadata": {},
   "outputs": [],
   "source": [
    "print(15%21)"
   ]
  },
  {
   "cell_type": "code",
   "execution_count": null,
   "id": "48613129",
   "metadata": {},
   "outputs": [],
   "source": [
    "x='cat and dog'\n",
    "print(len(x))\n",
    "print(x[4])\n",
    "x[1]='b'\n"
   ]
  },
  {
   "cell_type": "code",
   "execution_count": null,
   "id": "3b60b043",
   "metadata": {},
   "outputs": [],
   "source": [
    "type(x)"
   ]
  },
  {
   "cell_type": "code",
   "execution_count": null,
   "id": "67602072",
   "metadata": {},
   "outputs": [],
   "source": [
    "# how to work strings in python"
   ]
  },
  {
   "cell_type": "code",
   "execution_count": null,
   "id": "bdbb7557",
   "metadata": {},
   "outputs": [],
   "source": [
    "x='badhon '*3\n",
    "print(x)"
   ]
  },
  {
   "cell_type": "code",
   "execution_count": null,
   "id": "a6c019dc",
   "metadata": {},
   "outputs": [],
   "source": [
    "m = input('Enter a  integer number : ')\n",
    "y=int(m)+12\n",
    "print('The sum is = ',y)"
   ]
  },
  {
   "cell_type": "code",
   "execution_count": null,
   "id": "71dd2156",
   "metadata": {},
   "outputs": [],
   "source": [
    "x=input()\n",
    "y=input()\n",
    "print(\"the sum is = \",int(x)+int(y))"
   ]
  },
  {
   "cell_type": "code",
   "execution_count": null,
   "id": "c770b467",
   "metadata": {},
   "outputs": [],
   "source": [
    "q=(5!=6)\n",
    "print(q)\n",
    "type(q)"
   ]
  },
  {
   "cell_type": "code",
   "execution_count": null,
   "id": "af7c68fd",
   "metadata": {},
   "outputs": [],
   "source": [
    "b=input()\n",
    "if float(b)>12:\n",
    "    print(\"Bg\")\n",
    "else:\n",
    "    print(\"small\")"
   ]
  },
  {
   "cell_type": "code",
   "execution_count": 12,
   "id": "5d981349",
   "metadata": {},
   "outputs": [
    {
     "name": "stdout",
     "output_type": "stream",
     "text": [
      "Enter a number :3\n",
      "odd\n"
     ]
    }
   ],
   "source": [
    "v=input(\"Enter a number :\")\n",
    "if int(v)<=0:\n",
    "    print(\"below  zero\")\n",
    "elif float(v)%2==0:\n",
    "    print(\"even\")\n",
    "else:\n",
    "    print(\"odd\")"
   ]
  },
  {
   "cell_type": "code",
   "execution_count": 16,
   "id": "92074fe6",
   "metadata": {},
   "outputs": [
    {
     "name": "stdout",
     "output_type": "stream",
     "text": [
      "Enter a year : 2020\n",
      "leap year \n"
     ]
    }
   ],
   "source": [
    "year=int(input(\"Enter a year : \"))\n",
    "\n",
    "if year%100==0:\n",
    "    year=year/100\n",
    "if year%4==0:\n",
    "    print(\"leap year \")\n",
    "else:\n",
    "    print(\"not leap year \")\n",
    "\n",
    "            \n",
    "            "
   ]
  },
  {
   "cell_type": "code",
   "execution_count": 20,
   "id": "13194eef",
   "metadata": {},
   "outputs": [
    {
     "name": "stdout",
     "output_type": "stream",
     "text": [
      "Enter num of class : 5\n",
      "al attend class :6\n",
      "Can attend exam\n",
      "Percentage is : 120.0\n"
     ]
    }
   ],
   "source": [
    "num_of_class=int(input(\"Enter num of class : \"))\n",
    "atd=int(input(\"al attend class :\"))\n",
    "per=(atd/num_of_class)*100\n",
    "if per>=75:\n",
    "    print(\"Can attend exam\")\n",
    "else:\n",
    "    print(\"Can't attend exam \")\n",
    "print(\"Percentage is :\",per)"
   ]
  },
  {
   "cell_type": "code",
   "execution_count": 24,
   "id": "0fdbc401",
   "metadata": {},
   "outputs": [
    {
     "name": "stdout",
     "output_type": "stream",
     "text": [
      "1.4142135623730951\n"
     ]
    }
   ],
   "source": [
    "import math\n",
    "print(math.sqrt(2))"
   ]
  },
  {
   "cell_type": "code",
   "execution_count": 25,
   "id": "0dad3b95",
   "metadata": {},
   "outputs": [
    {
     "name": "stdout",
     "output_type": "stream",
     "text": [
      "3.141592653589793\n"
     ]
    }
   ],
   "source": [
    "import math\n",
    "print(math.pi)"
   ]
  },
  {
   "cell_type": "code",
   "execution_count": 30,
   "id": "a6b5731b",
   "metadata": {},
   "outputs": [
    {
     "name": "stdout",
     "output_type": "stream",
     "text": [
      "Enter an in degree 30\n",
      " THe angle n radian  0.49999999999999994\n"
     ]
    }
   ],
   "source": [
    "import math\n",
    "degree=float(input(\"Enter an in degree \"))\n",
    "rad=(degree*math.pi)/180\n",
    "\n",
    "print(\" THe angle n radian \",math.sin(rad))"
   ]
  },
  {
   "cell_type": "code",
   "execution_count": 31,
   "id": "db5b5f26",
   "metadata": {},
   "outputs": [
    {
     "name": "stdout",
     "output_type": "stream",
     "text": [
      "1.5707963267948966\n"
     ]
    }
   ],
   "source": [
    "import math\n",
    "print(math.asin(1))\n"
   ]
  },
  {
   "cell_type": "code",
   "execution_count": 32,
   "id": "1d6133d6",
   "metadata": {},
   "outputs": [
    {
     "name": "stdout",
     "output_type": "stream",
     "text": [
      "Enter number one : 20\n",
      "Enter number two : 10\n",
      "GCD is  10\n",
      "LCM is  20.0\n"
     ]
    }
   ],
   "source": [
    "#Find gcd and lcm between two number\n",
    "import math\n",
    "x=int(input(\"Enter number one : \"))\n",
    "y=int(input(\"Enter number two : \"))\n",
    "print(\"GCD is \",math.gcd(x,y))\n",
    "lcm=(x*y)/math.gcd(x,y)\n",
    "print(\"LCM is \",lcm)\n",
    "\n"
   ]
  },
  {
   "cell_type": "code",
   "execution_count": 1,
   "id": "c20a809f",
   "metadata": {},
   "outputs": [
    {
     "name": "stdout",
     "output_type": "stream",
     "text": [
      "Numbers\n",
      "0\n",
      "[1, 2, 3]\n",
      "3\n"
     ]
    }
   ],
   "source": [
    "#mehedi vai list\n",
    "number = 1\n",
    "my_numbers = [number, 2, 3]\n",
    "\n",
    "things = [\"Numbers\", 0, my_numbers, 4.56]\n",
    "\n",
    "print(things[0])\n",
    "print(things[1])\n",
    "print(things[2])\n",
    "print(things[2][2])#imp"
   ]
  },
  {
   "cell_type": "code",
   "execution_count": 3,
   "id": "6af18308",
   "metadata": {},
   "outputs": [
    {
     "name": "stdout",
     "output_type": "stream",
     "text": [
      "True\n",
      "False\n",
      "True\n",
      "False\n"
     ]
    }
   ],
   "source": [
    "fruits = [\"apple\", \"orange\", \"pineappe\", \"grape\"]\n",
    "\n",
    "print(\"orange\" in fruits)\n",
    "print(\"rice\" in fruits)\n",
    "print(\"apple\" in fruits)\n",
    "print(\"badhon\" in fruits)"
   ]
  },
  {
   "cell_type": "code",
   "execution_count": 4,
   "id": "c0a003c6",
   "metadata": {},
   "outputs": [
    {
     "data": {
      "text/plain": [
       "2"
      ]
     },
     "execution_count": 4,
     "metadata": {},
     "output_type": "execute_result"
    }
   ],
   "source": [
    "letters = ['p', 'q', 'r', 's', 'p', 'u']\n",
    "letters.count('p')"
   ]
  },
  {
   "cell_type": "code",
   "execution_count": 5,
   "id": "ea0ad258",
   "metadata": {},
   "outputs": [
    {
     "name": "stdout",
     "output_type": "stream",
     "text": [
      "[0, 1, 2, 3, 4, 5, 6, 7, 8, 9, 10, 11]\n"
     ]
    }
   ],
   "source": [
    "num= list(range(12))\n",
    "print(num)"
   ]
  },
  {
   "cell_type": "code",
   "execution_count": 6,
   "id": "3e5115ab",
   "metadata": {},
   "outputs": [
    {
     "name": "stdout",
     "output_type": "stream",
     "text": [
      "[5, 8, 11, 14, 17, 20, 23, 26, 29]\n"
     ]
    }
   ],
   "source": [
    "my_numbers = list(range(5, 30, 3))\n",
    "print(my_numbers)\n"
   ]
  },
  {
   "cell_type": "code",
   "execution_count": 7,
   "id": "28ce9ae5",
   "metadata": {},
   "outputs": [
    {
     "name": "stdout",
     "output_type": "stream",
     "text": [
      "Apple Juice!\n",
      "Orange Juice!\n",
      "Pineapple Juice!\n",
      "Grape Juice!\n"
     ]
    }
   ],
   "source": [
    "fruits = [\"Apple\", \"Orange\", \"Pineapple\", \"Grape\"]\n",
    "# Lets make juice with these fruits\n",
    "\n",
    "for fruit in fruits:\n",
    "    print(fruit + \" Juice!\")"
   ]
  },
  {
   "cell_type": "code",
   "execution_count": 8,
   "id": "9a70a5ac",
   "metadata": {},
   "outputs": [
    {
     "name": "stdout",
     "output_type": "stream",
     "text": [
      "10\n",
      "8\n",
      "6\n",
      "4\n",
      "2\n"
     ]
    }
   ],
   "source": [
    "# start with 10\n",
    "# end with 0\n",
    "# step size -2\n",
    "for i in range(10, 0, -2):\n",
    "     print(i)"
   ]
  },
  {
   "cell_type": "code",
   "execution_count": 9,
   "id": "3cac832e",
   "metadata": {},
   "outputs": [
    {
     "name": "stdout",
     "output_type": "stream",
     "text": [
      "1\n",
      "2\n",
      "[3, 4, 5, 6, 7, 8]\n",
      "9\n"
     ]
    }
   ],
   "source": [
    "a, b, *c, d = [1, 2, 3, 4, 5, 6, 7, 8, 9]\n",
    "print(a)\n",
    "print(b)\n",
    "print(c)\n",
    "print(d)"
   ]
  },
  {
   "cell_type": "code",
   "execution_count": 16,
   "id": "42d230f1",
   "metadata": {},
   "outputs": [
    {
     "name": "stdout",
     "output_type": "stream",
     "text": [
      "21\n"
     ]
    }
   ],
   "source": [
    "import random as rd\n",
    "x= rd.randint(2,43)\n",
    "print(x)"
   ]
  },
  {
   "cell_type": "code",
   "execution_count": 1,
   "id": "cbc94091",
   "metadata": {},
   "outputs": [
    {
     "name": "stdout",
     "output_type": "stream",
     "text": [
      "[3, 6, 9]\n"
     ]
    }
   ],
   "source": [
    "numbers = [1, 2, 3, 4, 5, 6, 7, 8, 9, 10]\n",
    "print(numbers[2:9:3])"
   ]
  },
  {
   "cell_type": "code",
   "execution_count": 2,
   "id": "e3c24d4f",
   "metadata": {},
   "outputs": [
    {
     "name": "stdout",
     "output_type": "stream",
     "text": [
      "[0, 1, 4, 9, 16, 25, 36, 49, 64, 81]\n"
     ]
    }
   ],
   "source": [
    "squares = [1, 2, 5, 0, 1, 4, 9, 16, 25, 36, 49, 64, 81, 4, 6, 7, 8]\n",
    "print(squares[3:-4])"
   ]
  },
  {
   "cell_type": "code",
   "execution_count": null,
   "id": "5cd9085c",
   "metadata": {},
   "outputs": [],
   "source": []
  }
 ],
 "metadata": {
  "kernelspec": {
   "display_name": "Python 3",
   "language": "python",
   "name": "python3"
  },
  "language_info": {
   "codemirror_mode": {
    "name": "ipython",
    "version": 3
   },
   "file_extension": ".py",
   "mimetype": "text/x-python",
   "name": "python",
   "nbconvert_exporter": "python",
   "pygments_lexer": "ipython3",
   "version": "3.8.8"
  }
 },
 "nbformat": 4,
 "nbformat_minor": 5
}
